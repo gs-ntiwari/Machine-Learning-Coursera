{
  "nbformat": 4,
  "nbformat_minor": 0,
  "metadata": {
    "colab": {
      "name": "Course 1 - Part 4 - Lesson 4 - Notebook.ipynb",
      "version": "0.3.2",
      "provenance": [],
      "collapsed_sections": [],
      "include_colab_link": true
    },
    "kernelspec": {
      "name": "python3",
      "display_name": "Python 3"
    }
  },
  "cells": [
    {
      "cell_type": "markdown",
      "metadata": {
        "id": "view-in-github",
        "colab_type": "text"
      },
      "source": [
        "<a href=\"https://colab.research.google.com/github/gs-ntiwari/Machine-Learning-Coursera/blob/master/Course_1_Part_4_Lesson_4_Notebook.ipynb\" target=\"_parent\"><img src=\"https://colab.research.google.com/assets/colab-badge.svg\" alt=\"Open In Colab\"/></a>"
      ]
    },
    {
      "metadata": {
        "id": "N9-BCmi15L93",
        "colab_type": "code",
        "outputId": "57a266cd-3f1c-4d1a-80cc-4d8dd32ffe12",
        "colab": {
          "base_uri": "https://localhost:8080/",
          "height": 272
        }
      },
      "cell_type": "code",
      "source": [
        "import tensorflow as tf\n",
        "\n",
        "class myCallback(tf.keras.callbacks.Callback):\n",
        "  def on_epoch_end(self, epoch, logs={}):\n",
        "    if(logs.get('acc')>0.9):\n",
        "      print(\"\\nReached 60% accuracy so cancelling training!\")\n",
        "      self.model.stop_training = True\n",
        "\n",
        "mnist = tf.keras.datasets.fashion_mnist\n",
        "\n",
        "(x_train, y_train),(x_test, y_test) = mnist.load_data()\n",
        "x_train, x_test = x_train / 255.0, x_test / 255.0\n",
        "\n",
        "callbacks = myCallback()\n",
        "\n",
        "model = tf.keras.models.Sequential([\n",
        "  tf.keras.layers.Flatten(input_shape=(28, 28)),\n",
        "  tf.keras.layers.Dense(512, activation=tf.nn.relu),\n",
        "  tf.keras.layers.Dense(10, activation=tf.nn.softmax)\n",
        "])\n",
        "model.compile(optimizer='adam',\n",
        "              loss='sparse_categorical_crossentropy',\n",
        "              metrics=['accuracy'])\n",
        "\n",
        "model.fit(x_train, y_train, epochs=10, callbacks=[callbacks])"
      ],
      "execution_count": 0,
      "outputs": [
        {
          "output_type": "stream",
          "text": [
            "Epoch 1/10\n",
            "60000/60000 [==============================] - 11s 177us/sample - loss: 0.4768 - acc: 0.8303\n",
            "Epoch 2/10\n",
            "60000/60000 [==============================] - 10s 163us/sample - loss: 0.3589 - acc: 0.8708\n",
            "Epoch 3/10\n",
            "60000/60000 [==============================] - 10s 165us/sample - loss: 0.3224 - acc: 0.8814\n",
            "Epoch 4/10\n",
            "60000/60000 [==============================] - 10s 163us/sample - loss: 0.2987 - acc: 0.8902\n",
            "Epoch 5/10\n",
            "60000/60000 [==============================] - 10s 166us/sample - loss: 0.2787 - acc: 0.8971\n",
            "Epoch 6/10\n",
            "59840/60000 [============================>.] - ETA: 0s - loss: 0.2640 - acc: 0.9017\n",
            "Reached 60% accuracy so cancelling training!\n",
            "60000/60000 [==============================] - 10s 172us/sample - loss: 0.2639 - acc: 0.9017\n"
          ],
          "name": "stdout"
        },
        {
          "output_type": "execute_result",
          "data": {
            "text/plain": [
              "<tensorflow.python.keras.callbacks.History at 0x7f8d5258f240>"
            ]
          },
          "metadata": {
            "tags": []
          },
          "execution_count": 2
        }
      ]
    }
  ]
}